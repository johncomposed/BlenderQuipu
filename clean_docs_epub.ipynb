{
 "cells": [
  {
   "cell_type": "code",
   "execution_count": 8,
   "id": "b5d6e425",
   "metadata": {},
   "outputs": [],
   "source": [
    "import os\n",
    "import glob\n",
    "\n",
    "from unstructured.documents.html import HTMLDocument\n",
    "from unstructured.partition.html import partition_html\n",
    "from unstructured.staging.base import convert_to_dict\n",
    "from unstructured.staging.base import elements_to_json, elements_from_json\n",
    "from unstructured.documents.elements import Title, ElementMetadata\n",
    "\n",
    "from unstructured.partition.epub import partition_epub"
   ]
  },
  {
   "cell_type": "code",
   "execution_count": 12,
   "id": "e3a44499",
   "metadata": {},
   "outputs": [],
   "source": [
    "root_dir = '3.6/manual'\n",
    "epub_filename = \"3.6/manual/epub_dir/Blender36Manual.epub\"\n",
    "\n",
    "# epub_filename = \"3.6/manual/blender_manual.epub\"\n"
   ]
  },
  {
   "cell_type": "code",
   "execution_count": 13,
   "id": "d18ed9b5",
   "metadata": {},
   "outputs": [],
   "source": [
    "elements = partition_epub(filename=epub_filename)\n"
   ]
  },
  {
   "cell_type": "code",
   "execution_count": 16,
   "id": "ffe7d2b3",
   "metadata": {},
   "outputs": [],
   "source": [
    "elements_to_json(elements, filename=root_dir + '/epub_elements.json')\n"
   ]
  },
  {
   "cell_type": "code",
   "execution_count": 14,
   "id": "47a4de92",
   "metadata": {},
   "outputs": [
    {
     "name": "stdout",
     "output_type": "stream",
     "text": [
      "1999\n"
     ]
    },
    {
     "data": {
      "text/plain": [
       "'3.6/manual/epub_dir/interface/controls/nodes/editing.xhtml'"
      ]
     },
     "execution_count": 14,
     "metadata": {},
     "output_type": "execute_result"
    }
   ],
   "source": [
    "# root_dir = '3.6/manual'\n",
    "# html_dir = root_dir + '/epub_dir'\n",
    "# html_files = []\n",
    "\n",
    "# html_files = glob.glob(f'{html_dir}/**/*.*html', recursive=True)\n",
    "\n",
    "# print(len(html_files))\n",
    "# html_files[45]"
   ]
  }
 ],
 "metadata": {
  "kernelspec": {
   "display_name": "Python 3",
   "language": "python",
   "name": "python3"
  },
  "language_info": {
   "codemirror_mode": {
    "name": "ipython",
    "version": 3
   },
   "file_extension": ".py",
   "mimetype": "text/x-python",
   "name": "python",
   "nbconvert_exporter": "python",
   "pygments_lexer": "ipython3",
   "version": "3.10.6"
  }
 },
 "nbformat": 4,
 "nbformat_minor": 5
}
