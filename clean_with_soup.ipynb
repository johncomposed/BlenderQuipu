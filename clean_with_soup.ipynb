{
 "cells": [
  {
   "cell_type": "code",
   "execution_count": 7,
   "id": "9e1daa5c",
   "metadata": {},
   "outputs": [],
   "source": [
    "import os\n",
    "import glob\n",
    "from bs4 import BeautifulSoup, NavigableString"
   ]
  },
  {
   "cell_type": "code",
   "execution_count": 5,
   "id": "40455d7f",
   "metadata": {},
   "outputs": [
    {
     "name": "stdout",
     "output_type": "stream",
     "text": [
      "1998\n"
     ]
    },
    {
     "data": {
      "text/plain": [
       "'3.6/manual/raw_html/interface/controls/nodes/introduction.html'"
      ]
     },
     "execution_count": 5,
     "metadata": {},
     "output_type": "execute_result"
    }
   ],
   "source": [
    "root_dir = '3.6/manual'\n",
    "html_dir = root_dir + '/raw_html'\n",
    "html_files = []\n",
    "\n",
    "html_files = glob.glob(f'{html_dir}/**/*.html', recursive=True)\n",
    "\n",
    "print(len(html_files))\n",
    "html_files[45]"
   ]
  },
  {
   "cell_type": "code",
   "execution_count": 10,
   "id": "cf279ce7",
   "metadata": {},
   "outputs": [],
   "source": [
    "def read_page(file_path):\n",
    "    with open(file_path, 'r', encoding='utf-8') as file:\n",
    "        html_content = file.read()\n",
    "    return html_content\n",
    "\n",
    "def path_to_title(path):\n",
    "    parts = path.split('/')[3:]\n",
    "    formatted_parts = []\n",
    "    for part in parts:\n",
    "        # Remove file extension, replace underscores with spaces, capitalize\n",
    "        part = part.split('.')[0].replace('_', ' ').title()\n",
    "        formatted_parts.append(part)\n",
    "    \n",
    "    return ' > '.join(formatted_parts)\n",
    "\n",
    "def path_to_slug(path):\n",
    "    parts = path.split('/')[3:]\n",
    "    formatted_parts = []\n",
    "    for part in parts:\n",
    "        # Remove file extension, replace underscores with spaces, capitalize\n",
    "        part = part.split('.')[0]\n",
    "        formatted_parts.append(part)\n",
    "    \n",
    "    return '-'.join(formatted_parts)\n"
   ]
  },
  {
   "cell_type": "code",
   "execution_count": 48,
   "id": "a87de225",
   "metadata": {},
   "outputs": [],
   "source": [
    "def clean_doc_page(path):\n",
    "    html = read_page(path)\n",
    "    soup = BeautifulSoup(html, 'html.parser')\n",
    "    \n",
    "    title = path_to_title(path)\n",
    "    main_document = soup.find('div', {'role': 'main', 'class': 'document'})\n",
    "    breadcrumbs = soup.find('ul', class_='wy-breadcrumbs')\n",
    "    \n",
    "    #TODO: Why yes i know i loop like 4 times through the page for no reason. \n",
    "    def clean_tags(tag):\n",
    "        tag.attrs = {}\n",
    "\n",
    "        # Delete all <a class=\"headerlink\"> tags\n",
    "        for headerlink in tag.find_all('a', class_='headerlink'):\n",
    "            headerlink.decompose()\n",
    "            \n",
    "        # Replace each 'span' with just its text content\n",
    "        for span in tag.find_all('span'):\n",
    "            span.replace_with(NavigableString(span.text))\n",
    "        \n",
    "        for sub_tag in tag.find_all(True):\n",
    "           # no classes on tags\n",
    "            if 'class' in sub_tag.attrs:\n",
    "                del sub_tag['class']\n",
    "            if 'style' in sub_tag.attrs:\n",
    "                del sub_tag['style']\n",
    "\n",
    "        for sub_tag in tag.find_all(True):\n",
    "            # no tags without text\n",
    "            if not sub_tag.get_text(strip=True):\n",
    "                sub_tag.decompose()\n",
    "\n",
    "    \n",
    "    # Apply the cleaning to found elements\n",
    "    if main_document:\n",
    "        clean_tags(main_document)\n",
    "    if breadcrumbs:\n",
    "        clean_tags(breadcrumbs)\n",
    "    \n",
    "    # Return the cleaned elements\n",
    "    return title, main_document, breadcrumbs\n"
   ]
  },
  {
   "cell_type": "code",
   "execution_count": 62,
   "id": "b120bb6e",
   "metadata": {},
   "outputs": [],
   "source": [
    "def cleaned_to_page(title, main_document, breadcrumbs):\n",
    "    main_document_str = str(main_document)\n",
    "    breadcrumbs_str = str(breadcrumbs)\n",
    "\n",
    "    html_template = f\"\"\"\n",
    "    <!DOCTYPE html>\n",
    "    <html xmlns=\"http://www.w3.org/1999/xhtml\">\n",
    "    <head><title>{title}</title></head>\n",
    "    <body>{breadcrumbs_str}{main_document_str}</body>\n",
    "    </html>\n",
    "    \"\"\"\n",
    "    soup = BeautifulSoup(html_template, 'xml')\n",
    "\n",
    "    #print(soup.prettify())\n",
    "    return str(soup)\n"
   ]
  },
  {
   "cell_type": "code",
   "execution_count": 63,
   "id": "4fdc499d",
   "metadata": {},
   "outputs": [
    {
     "name": "stdout",
     "output_type": "stream",
     "text": [
      "3.6/manual/raw_html/interface/controls/templates/list_view.html\n"
     ]
    },
    {
     "ename": "FileNotFoundError",
     "evalue": "[Errno 2] No such file or directory: '3.6/manual/raw_html/contribute/translations/style_guide.html'",
     "output_type": "error",
     "traceback": [
      "\u001b[0;31m---------------------------------------------------------------------------\u001b[0m",
      "\u001b[0;31mFileNotFoundError\u001b[0m                         Traceback (most recent call last)",
      "Cell \u001b[0;32mIn [63], line 12\u001b[0m\n\u001b[1;32m      9\u001b[0m         file\u001b[38;5;241m.\u001b[39mwrite(result)\n\u001b[1;32m     11\u001b[0m \u001b[38;5;28;01mfor\u001b[39;00m path \u001b[38;5;129;01min\u001b[39;00m html_files:\n\u001b[0;32m---> 12\u001b[0m     \u001b[43mprocess_page\u001b[49m\u001b[43m(\u001b[49m\u001b[43mpath\u001b[49m\u001b[43m)\u001b[49m\n",
      "Cell \u001b[0;32mIn [63], line 6\u001b[0m, in \u001b[0;36mprocess_page\u001b[0;34m(path)\u001b[0m\n\u001b[1;32m      4\u001b[0m \u001b[38;5;28;01mdef\u001b[39;00m \u001b[38;5;21mprocess_page\u001b[39m(path):\n\u001b[1;32m      5\u001b[0m     out \u001b[38;5;241m=\u001b[39m root_dir \u001b[38;5;241m+\u001b[39m \u001b[38;5;124m'\u001b[39m\u001b[38;5;124m/cleaned_html/\u001b[39m\u001b[38;5;124m'\u001b[39m \u001b[38;5;241m+\u001b[39m path_to_slug(path) \u001b[38;5;241m+\u001b[39m \u001b[38;5;124m'\u001b[39m\u001b[38;5;124m.html\u001b[39m\u001b[38;5;124m'\u001b[39m\n\u001b[0;32m----> 6\u001b[0m     title, main, bread \u001b[38;5;241m=\u001b[39m \u001b[43mclean_doc_page\u001b[49m\u001b[43m(\u001b[49m\u001b[43mpath\u001b[49m\u001b[43m)\u001b[49m\n\u001b[1;32m      7\u001b[0m     result \u001b[38;5;241m=\u001b[39m cleaned_to_page(title,main,bread)\n\u001b[1;32m      8\u001b[0m     \u001b[38;5;28;01mwith\u001b[39;00m \u001b[38;5;28mopen\u001b[39m(out, \u001b[38;5;124m'\u001b[39m\u001b[38;5;124mw\u001b[39m\u001b[38;5;124m'\u001b[39m, encoding\u001b[38;5;241m=\u001b[39m\u001b[38;5;124m'\u001b[39m\u001b[38;5;124mutf-8\u001b[39m\u001b[38;5;124m'\u001b[39m) \u001b[38;5;28;01mas\u001b[39;00m file:\n",
      "Cell \u001b[0;32mIn [48], line 2\u001b[0m, in \u001b[0;36mclean_doc_page\u001b[0;34m(path)\u001b[0m\n\u001b[1;32m      1\u001b[0m \u001b[38;5;28;01mdef\u001b[39;00m \u001b[38;5;21mclean_doc_page\u001b[39m(path):\n\u001b[0;32m----> 2\u001b[0m     html \u001b[38;5;241m=\u001b[39m \u001b[43mread_page\u001b[49m\u001b[43m(\u001b[49m\u001b[43mpath\u001b[49m\u001b[43m)\u001b[49m\n\u001b[1;32m      3\u001b[0m     soup \u001b[38;5;241m=\u001b[39m BeautifulSoup(html, \u001b[38;5;124m'\u001b[39m\u001b[38;5;124mhtml.parser\u001b[39m\u001b[38;5;124m'\u001b[39m)\n\u001b[1;32m      5\u001b[0m     title \u001b[38;5;241m=\u001b[39m path_to_title(path)\n",
      "Cell \u001b[0;32mIn [10], line 2\u001b[0m, in \u001b[0;36mread_page\u001b[0;34m(file_path)\u001b[0m\n\u001b[1;32m      1\u001b[0m \u001b[38;5;28;01mdef\u001b[39;00m \u001b[38;5;21mread_page\u001b[39m(file_path):\n\u001b[0;32m----> 2\u001b[0m     \u001b[38;5;28;01mwith\u001b[39;00m \u001b[38;5;28;43mopen\u001b[39;49m\u001b[43m(\u001b[49m\u001b[43mfile_path\u001b[49m\u001b[43m,\u001b[49m\u001b[43m \u001b[49m\u001b[38;5;124;43m'\u001b[39;49m\u001b[38;5;124;43mr\u001b[39;49m\u001b[38;5;124;43m'\u001b[39;49m\u001b[43m,\u001b[49m\u001b[43m \u001b[49m\u001b[43mencoding\u001b[49m\u001b[38;5;241;43m=\u001b[39;49m\u001b[38;5;124;43m'\u001b[39;49m\u001b[38;5;124;43mutf-8\u001b[39;49m\u001b[38;5;124;43m'\u001b[39;49m\u001b[43m)\u001b[49m \u001b[38;5;28;01mas\u001b[39;00m file:\n\u001b[1;32m      3\u001b[0m         html_content \u001b[38;5;241m=\u001b[39m file\u001b[38;5;241m.\u001b[39mread()\n\u001b[1;32m      4\u001b[0m     \u001b[38;5;28;01mreturn\u001b[39;00m html_content\n",
      "\u001b[0;31mFileNotFoundError\u001b[0m: [Errno 2] No such file or directory: '3.6/manual/raw_html/contribute/translations/style_guide.html'"
     ]
    }
   ],
   "source": [
    "file = html_files[46]\n",
    "print(file)\n",
    "\n",
    "def process_page(path):\n",
    "    out = root_dir + '/cleaned_html/' + path_to_slug(path) + '.html'\n",
    "    title, main, bread = clean_doc_page(path)\n",
    "    result = cleaned_to_page(title,main,bread)\n",
    "    with open(out, 'w', encoding='utf-8') as file:\n",
    "        file.write(result)\n",
    "        \n",
    "for path in html_files:\n",
    "    process_page(path)"
   ]
  },
  {
   "cell_type": "code",
   "execution_count": 51,
   "id": "c2f288af",
   "metadata": {
    "scrolled": false
   },
   "outputs": [],
   "source": []
  }
 ],
 "metadata": {
  "kernelspec": {
   "display_name": "Python 3",
   "language": "python",
   "name": "python3"
  },
  "language_info": {
   "codemirror_mode": {
    "name": "ipython",
    "version": 3
   },
   "file_extension": ".py",
   "mimetype": "text/x-python",
   "name": "python",
   "nbconvert_exporter": "python",
   "pygments_lexer": "ipython3",
   "version": "3.10.6"
  }
 },
 "nbformat": 4,
 "nbformat_minor": 5
}
